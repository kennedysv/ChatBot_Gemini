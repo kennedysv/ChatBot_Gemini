{
  "nbformat": 4,
  "nbformat_minor": 0,
  "metadata": {
    "colab": {
      "provenance": [],
      "authorship_tag": "ABX9TyOfZUjfz76GMzk8YJOubv8t",
      "include_colab_link": true
    },
    "kernelspec": {
      "name": "python3",
      "display_name": "Python 3"
    },
    "language_info": {
      "name": "python"
    }
  },
  "cells": [
    {
      "cell_type": "markdown",
      "metadata": {
        "id": "view-in-github",
        "colab_type": "text"
      },
      "source": [
        "<a href=\"https://colab.research.google.com/github/kennedysv/ChatBot_Gemini/blob/main/Gemini_Chatbot.ipynb\" target=\"_parent\"><img src=\"https://colab.research.google.com/assets/colab-badge.svg\" alt=\"Open In Colab\"/></a>"
      ]
    },
    {
      "cell_type": "code",
      "execution_count": 3,
      "metadata": {
        "id": "UldAGn5_ZFZr"
      },
      "outputs": [],
      "source": [
        "!pip install -q -U google-generativeai"
      ]
    },
    {
      "cell_type": "code",
      "source": [
        "\n",
        "import google.generativeai as genai\n",
        "\n",
        "GOOGLE_API_KEY=\"SUA CHAVE DA API AQUI\"\n",
        "genai.configure(api_key=GOOGLE_API_KEY)"
      ],
      "metadata": {
        "id": "1RiPBAjYbHao"
      },
      "execution_count": 4,
      "outputs": []
    },
    {
      "cell_type": "markdown",
      "source": [],
      "metadata": {
        "id": "svrA0p4WbZ_x"
      }
    },
    {
      "cell_type": "code",
      "source": [
        "for m in genai.list_models():\n",
        "  if 'generateContent' in m.supported_generation_methods:\n",
        "    print(m.name)"
      ],
      "metadata": {
        "colab": {
          "base_uri": "https://localhost:8080/",
          "height": 138
        },
        "id": "NxidDngrcVRc",
        "outputId": "ff813d31-255c-4358-a009-d34329610f30"
      },
      "execution_count": 5,
      "outputs": [
        {
          "output_type": "stream",
          "name": "stdout",
          "text": [
            "models/gemini-1.0-pro\n",
            "models/gemini-1.0-pro-001\n",
            "models/gemini-1.0-pro-latest\n",
            "models/gemini-1.0-pro-vision-latest\n",
            "models/gemini-1.5-pro-latest\n",
            "models/gemini-pro\n",
            "models/gemini-pro-vision\n"
          ]
        }
      ]
    },
    {
      "cell_type": "code",
      "source": [
        "generation_config = {\n",
        "    \"candidate_count\": 1,\n",
        "    \"temperature\": 0.5,\n",
        "}"
      ],
      "metadata": {
        "id": "fZAdrUZod-9e"
      },
      "execution_count": 6,
      "outputs": []
    },
    {
      "cell_type": "code",
      "source": [
        "safety_settings = {\n",
        "    \"HARASSMENT\": \"BLOCK_NONE\",\n",
        "    \"HATE\": \"BLOCK_NONE\",\n",
        "    \"SEXUAL\": \"BLOCK_NONE\",\n",
        "    \"DANGEROUS\": \"BLOCK_NONE\",\n",
        "}"
      ],
      "metadata": {
        "id": "YA6WaBLhezmR"
      },
      "execution_count": 7,
      "outputs": []
    },
    {
      "cell_type": "code",
      "source": [
        "model = genai.GenerativeModel(model_name=\"gemini-1.0-pro\",\n",
        "                              generation_config=generation_config,\n",
        "                              safety_settings=safety_settings)"
      ],
      "metadata": {
        "id": "c6XORzK3gD9K"
      },
      "execution_count": 8,
      "outputs": []
    },
    {
      "cell_type": "code",
      "source": [
        "response = model.generate_content(\"Vamos aprender contúdo sobre IA. Me dê sugestões.\")\n",
        "print(response.text)"
      ],
      "metadata": {
        "colab": {
          "base_uri": "https://localhost:8080/",
          "height": 694
        },
        "collapsed": true,
        "id": "V9qF09v7hbYH",
        "outputId": "ad93da3e-4417-4996-f514-14c2851f9d66"
      },
      "execution_count": 9,
      "outputs": [
        {
          "output_type": "stream",
          "name": "stdout",
          "text": [
            "**Conceitos Fundamentais**\n",
            "\n",
            "* O que é Inteligência Artificial (IA)?\n",
            "* Tipos de IA: IA Fraca, IA Forte, IA Geral\n",
            "* Aprendizado de Máquina (ML): Aprendizado Supervisionado, Não Supervisionado e por Reforço\n",
            "* Aprendizado Profundo (DL): Redes Neurais, Convolutivas e Recorrentes\n",
            "* Processamento de Linguagem Natural (PNL)\n",
            "* Visão Computacional\n",
            "\n",
            "**Aplicações de IA**\n",
            "\n",
            "* Assistentes Virtuais e Chatbots\n",
            "* Reconhecimento de Imagem e Vídeo\n",
            "* Processamento de Linguagem Natural\n",
            "* Previsão e Análise de Dados\n",
            "* Robótica e Veículos Autônomos\n",
            "* Diagnóstico e Tratamento Médico\n",
            "* Educação e Pesquisa\n",
            "\n",
            "**Ética e Implicações Sociais da IA**\n",
            "\n",
            "* Preocupações éticas: Viés, Discriminação e Privacidade\n",
            "* Impacto no Emprego e na Sociedade\n",
            "* Regulamentações e Políticas de IA\n",
            "\n",
            "**Recursos de Aprendizagem**\n",
            "\n",
            "* **Cursos Online:** Coursera, edX, Udemy\n",
            "* **Livros:** \"Inteligência Artificial: Uma Abordagem Moderna\" por Stuart Russell e Peter Norvig, \"Aprendizado de Máquina\" por Ethem Alpaydın\n",
            "* **Tutoriais:** TensorFlow, PyTorch, Keras\n",
            "* **Comunidades Online:** Reddit (r/MachineLearning, r/DeepLearning), Stack Overflow\n",
            "* **Conferências e Eventos:** NeurIPS, ICML, CVPR\n",
            "\n",
            "**Tendências e Avanços**\n",
            "\n",
            "* IA Generativa: GPT-3, DALL-E 2\n",
            "* IA Quântica\n",
            "* IA Explicável e Interpretável\n",
            "* IA Ética e Responsável\n"
          ]
        }
      ]
    },
    {
      "cell_type": "code",
      "source": [
        "chat = model.start_chat(history=[])"
      ],
      "metadata": {
        "id": "goa9WDqsiOuF"
      },
      "execution_count": 10,
      "outputs": []
    },
    {
      "cell_type": "code",
      "source": [
        "prompt = input(\"Esperando o prompt: \")\n",
        "\n",
        "while prompt != \"fim\":\n",
        "  response = chat.send_message(prompt)\n",
        "  print(\"Resposta:\", response.text, \"\\n\")\n",
        "  prompt = input(\"Esperando prompt: \")"
      ],
      "metadata": {
        "colab": {
          "base_uri": "https://localhost:8080/",
          "height": 468
        },
        "id": "-KXAFJR7ivwO",
        "outputId": "b1a0b391-e083-401f-f1ed-fdc2f84e29f4"
      },
      "execution_count": 11,
      "outputs": [
        {
          "name": "stdout",
          "output_type": "stream",
          "text": [
            "Esperando o prompt: Capital do Brasil\n",
            "Resposta: Brasília \n",
            "\n",
            "Esperando prompt: Capital do Japão\n",
            "Resposta: Tóquio \n",
            "\n",
            "Esperando prompt: qual a comida tipica desse pais\n",
            "Resposta: **Japão**\n",
            "\n",
            "* **Sushi**\n",
            "* **Sashimi**\n",
            "* **Tempura**\n",
            "* **Ramen**\n",
            "* **Udon**\n",
            "* **Soba**\n",
            "* **Yakitori**\n",
            "* **Okonomiyaki**\n",
            "* **Takoyaki**\n",
            "* **Mochi** \n",
            "\n",
            "Esperando prompt: qual é a população dessa cidade\n",
            "Resposta: **Tóquio**\n",
            "\n",
            "População: **13.960.344** (estimativa de 2023) \n",
            "\n",
            "Esperando prompt: fim\n"
          ]
        }
      ]
    },
    {
      "cell_type": "code",
      "source": [
        "#Melhorando a visualização\n",
        "#Código disponível em https://ai.google.dev/tutorials/python_quickstart#import_packages\n",
        "import textwrap\n",
        "from IPython.display import display\n",
        "from IPython.display import Markdown\n",
        "\n",
        "def to_markdown(text):\n",
        "  text = text.replace('•', '  *')\n",
        "  return Markdown(textwrap.indent(text, '> ', predicate=lambda _: True))\n",
        "\n",
        "#Imprimindo o histórico\n",
        "for message in chat.history:\n",
        "  display(to_markdown(f'**{message.role}**: {message.parts[0].text}'))\n",
        "  print('-------------------------------------------')"
      ],
      "metadata": {
        "colab": {
          "base_uri": "https://localhost:8080/",
          "height": 721
        },
        "id": "9fjJC2eNmqlX",
        "outputId": "b1f1d376-5146-45f4-d9ec-444dd16f027a"
      },
      "execution_count": 12,
      "outputs": [
        {
          "output_type": "display_data",
          "data": {
            "text/plain": [
              "<IPython.core.display.Markdown object>"
            ],
            "text/markdown": "> **user**: Capital do Brasil"
          },
          "metadata": {}
        },
        {
          "output_type": "stream",
          "name": "stdout",
          "text": [
            "-------------------------------------------\n"
          ]
        },
        {
          "output_type": "display_data",
          "data": {
            "text/plain": [
              "<IPython.core.display.Markdown object>"
            ],
            "text/markdown": "> **model**: Brasília"
          },
          "metadata": {}
        },
        {
          "output_type": "stream",
          "name": "stdout",
          "text": [
            "-------------------------------------------\n"
          ]
        },
        {
          "output_type": "display_data",
          "data": {
            "text/plain": [
              "<IPython.core.display.Markdown object>"
            ],
            "text/markdown": "> **user**: Capital do Japão"
          },
          "metadata": {}
        },
        {
          "output_type": "stream",
          "name": "stdout",
          "text": [
            "-------------------------------------------\n"
          ]
        },
        {
          "output_type": "display_data",
          "data": {
            "text/plain": [
              "<IPython.core.display.Markdown object>"
            ],
            "text/markdown": "> **model**: Tóquio"
          },
          "metadata": {}
        },
        {
          "output_type": "stream",
          "name": "stdout",
          "text": [
            "-------------------------------------------\n"
          ]
        },
        {
          "output_type": "display_data",
          "data": {
            "text/plain": [
              "<IPython.core.display.Markdown object>"
            ],
            "text/markdown": "> **user**: qual a comida tipica desse pais"
          },
          "metadata": {}
        },
        {
          "output_type": "stream",
          "name": "stdout",
          "text": [
            "-------------------------------------------\n"
          ]
        },
        {
          "output_type": "display_data",
          "data": {
            "text/plain": [
              "<IPython.core.display.Markdown object>"
            ],
            "text/markdown": "> **model**: **Japão**\n> \n> * **Sushi**\n> * **Sashimi**\n> * **Tempura**\n> * **Ramen**\n> * **Udon**\n> * **Soba**\n> * **Yakitori**\n> * **Okonomiyaki**\n> * **Takoyaki**\n> * **Mochi**"
          },
          "metadata": {}
        },
        {
          "output_type": "stream",
          "name": "stdout",
          "text": [
            "-------------------------------------------\n"
          ]
        },
        {
          "output_type": "display_data",
          "data": {
            "text/plain": [
              "<IPython.core.display.Markdown object>"
            ],
            "text/markdown": "> **user**: qual é a população dessa cidade"
          },
          "metadata": {}
        },
        {
          "output_type": "stream",
          "name": "stdout",
          "text": [
            "-------------------------------------------\n"
          ]
        },
        {
          "output_type": "display_data",
          "data": {
            "text/plain": [
              "<IPython.core.display.Markdown object>"
            ],
            "text/markdown": "> **model**: **Tóquio**\n> \n> População: **13.960.344** (estimativa de 2023)"
          },
          "metadata": {}
        },
        {
          "output_type": "stream",
          "name": "stdout",
          "text": [
            "-------------------------------------------\n"
          ]
        }
      ]
    },
    {
      "cell_type": "code",
      "source": [],
      "metadata": {
        "id": "dyEKvg9onYWk"
      },
      "execution_count": null,
      "outputs": []
    }
  ]
}